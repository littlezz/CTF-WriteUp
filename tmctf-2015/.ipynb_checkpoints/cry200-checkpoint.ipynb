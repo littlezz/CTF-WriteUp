{
 "cells": [
  {
   "cell_type": "code",
   "execution_count": 59,
   "metadata": {
    "collapsed": false
   },
   "outputs": [
    {
     "name": "stdout",
     "output_type": "stream",
     "text": [
      "Key:rVFvN9KLeYr6\n"
     ]
    }
   ],
   "source": [
    "#! python3\n",
    "from Crypto.Cipher import AES\n",
    "import string\n",
    "from itertools import combinations_with_replacement\n",
    "from binascii import hexlify, unhexlify\n",
    "\n",
    "\n",
    "# use 0 to replace the unknown info\n",
    "raw_ct = unhexlify('fe' + '0'*28 + 'c3' + '307df037c689300bbf2812ff89bc0b49')\n",
    "raw_iv = '0'*16\n",
    "\n",
    "pt = 'The message is protected by AES!'\n",
    "key_prefix = '5d6I9pfR7C1JQt'\n",
    "\n",
    "def recover_key():\n",
    "\n",
    "    for guess in combinations_with_replacement(string.printable, 2):\n",
    "        guess = ''.join(guess)\n",
    "        key = key_prefix + guess\n",
    "        decry_pt = AES.new(key, mode=AES.MODE_CBC, IV=raw_iv).decrypt(raw_ct)\n",
    "        \n",
    "        \n",
    "        if decry_pt[16] == ord('r') and decry_pt[31] == ord('!'):\n",
    "            return key\n",
    "\n",
    "        \n",
    "\n",
    "def xor_bytes(a,b):\n",
    "    return bytes([i^j for i,j in zip(a,b)])\n",
    "\n",
    "\n",
    "\n",
    "def recover_ct(key):\n",
    "    right_pt = pt.encode()\n",
    "    wrong_ct = raw_ct\n",
    "    \n",
    "    wrong_pt = AES.new(key, mode=AES.MODE_CBC, IV=raw_iv).decrypt(raw_ct)\n",
    "    #                                                 \n",
    "    right_first_ct = xor_bytes(wrong_pt[16:], xor_bytes(right_pt[16:], wrong_ct[:16]))\n",
    "    return right_first_ct + raw_ct[16:]\n",
    "    \n",
    "\n",
    "def recover_iv(ct, key):\n",
    "    right_pt = pt.encode()\n",
    "    wrong_iv = raw_iv.encode()\n",
    "    \n",
    "    wrong_pt = AES.new(key, mode=AES.MODE_CBC, IV=wrong_iv).decrypt(ct)\n",
    "    #                                                 \n",
    "    right_iv = xor_bytes(wrong_pt[:16], xor_bytes(right_pt[:16], wrong_iv))\n",
    "    return right_iv.decode()\n",
    "    \n",
    "    \n",
    "key = recover_key()\n",
    "ct = recover_ct(key)\n",
    "print(recover_iv(ct, key))\n",
    "    "
   ]
  },
  {
   "cell_type": "raw",
   "metadata": {},
   "source": [
    "dec(key, second_block_ct) ^ wrong_first_block_ct = wrong_second_block_pt\n",
    "dec(key, second_block_ct) ^ right_first_block_ct = right_second_block_pt\n",
    "\n",
    "=>\n",
    "\n",
    "right_first_block_ct = wrong_second_block_pt ^ right_second_block_pt ^ wrong_first_block_ct"
   ]
  }
 ],
 "metadata": {
  "kernelspec": {
   "display_name": "Python 3",
   "language": "python",
   "name": "python3"
  },
  "language_info": {
   "codemirror_mode": {
    "name": "ipython",
    "version": 3
   },
   "file_extension": ".py",
   "mimetype": "text/x-python",
   "name": "python",
   "nbconvert_exporter": "python",
   "pygments_lexer": "ipython3",
   "version": "3.4.3"
  }
 },
 "nbformat": 4,
 "nbformat_minor": 0
}
